{
  "nbformat": 4,
  "nbformat_minor": 0,
  "metadata": {
    "kernelspec": {
      "display_name": "Python 3",
      "language": "python",
      "name": "python3"
    },
    "language_info": {
      "codemirror_mode": {
        "name": "ipython",
        "version": 3
      },
      "file_extension": ".py",
      "mimetype": "text/x-python",
      "name": "python",
      "nbconvert_exporter": "python",
      "pygments_lexer": "ipython3",
      "version": "3.7.0"
    },
    "colab": {
      "name": "Question-3.ipynb",
      "provenance": [],
      "collapsed_sections": []
    }
  },
  "cells": [
    {
      "cell_type": "code",
      "metadata": {
        "id": "31ibHrWF7xk6"
      },
      "source": [
        "import random\n",
        "import time\n",
        "from annotated_board import AnnotatedBoard\n",
        "from copy import deepcopy"
      ],
      "execution_count": 9,
      "outputs": []
    },
    {
      "cell_type": "code",
      "metadata": {
        "id": "dNNznx-Y7xlO"
      },
      "source": [
        "def deduce(board):\n",
        "   \n",
        "    board.full_deduce()\n",
        "    count = board.unknown_count()\n",
        "    while count:\n",
        "        board.full_deduce()\n",
        "        last = board.unknowns\n",
        "        if last < count:\n",
        "            count = last\n",
        "        else:\n",
        "            return\n",
        "        \n",
        "\n",
        "def DFS(board):\n",
        "    \n",
        " \n",
        "    # Base case\n",
        "    deduce(board)\n",
        "    count = board.unknowns\n",
        "    if not count:\n",
        "        return board\n",
        "    \n",
        "    if board.is_valid() and count:\n",
        "        row, col = random.randint(0, 8), random.randint(0, 8)\n",
        "        while isinstance(board.element(row, col), int):\n",
        "            row, col = random.randint(0, 8), random.randint(0, 8)\n",
        "\n",
        "        stack = board.element(row, col)\n",
        "        guess_board = deepcopy(board)\n",
        "        for _ in range(len(stack)):\n",
        "            v = stack.pop()\n",
        "            guess_board.guess(row, col, v)\n",
        "            guess_board = DFS(guess_board)\n",
        "            if guess_board:\n",
        "                return guess_board\n",
        "            guess_board = deepcopy(board)\n",
        "        del guess_board\n",
        "    else:\n",
        "        del board\n",
        "        return None"
      ],
      "execution_count": 10,
      "outputs": []
    },
    {
      "cell_type": "code",
      "metadata": {
        "id": "lZ_88Ix47xlR"
      },
      "source": [
        "runs = 2500\n",
        "count = 0\n",
        "sum = 0\n",
        "times = []\n",
        "\n",
        "for x in range(runs):\n",
        "    game = AnnotatedBoard()\n",
        "    game.from_file('Input1.sudoku')\n",
        "    start = time.time()\n",
        "    game = DFS(game)\n",
        "    stop = time.time()\n",
        "    \n",
        "    times.append(stop - start)\n",
        "    \n",
        "    if game and game.unknown_count() == 0:\n",
        "        count += 1"
      ],
      "execution_count": 11,
      "outputs": []
    },
    {
      "cell_type": "code",
      "metadata": {
        "colab": {
          "base_uri": "https://localhost:8080/"
        },
        "id": "jtz5yXp87xlV",
        "outputId": "50b5a590-7890-4743-bad4-877a21ef2a7e"
      },
      "source": [
        "game = AnnotatedBoard()\n",
        "game.from_file('Input1.sudoku')\n",
        "game = DFS(game)\n",
        "print(game)"
      ],
      "execution_count": 13,
      "outputs": [
        {
          "output_type": "stream",
          "text": [
            "2 5 8 | 9 4 7 | 1 6 3 \n",
            "1 7 6 | 5 8 3 | 2 4 9 \n",
            "9 3 4 | 1 6 2 | 8 5 7 \n",
            "------+-------+------\n",
            "4 6 5 | 7 2 1 | 3 9 8 \n",
            "7 9 3 | 8 5 4 | 6 2 1 \n",
            "8 2 1 | 3 9 6 | 5 7 4 \n",
            "------+-------+------\n",
            "6 8 2 | 4 3 9 | 7 1 5 \n",
            "5 1 9 | 6 7 8 | 4 3 2 \n",
            "3 4 7 | 2 1 5 | 9 8 6 \n",
            "\n"
          ],
          "name": "stdout"
        }
      ]
    },
    {
      "cell_type": "code",
      "metadata": {
        "id": "FUOSvzNp7xlW"
      },
      "source": [
        ""
      ],
      "execution_count": 13,
      "outputs": []
    }
  ]
}